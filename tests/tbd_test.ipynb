{
 "cells": [
  {
   "cell_type": "code",
   "execution_count": 4,
   "id": "0e0bfb0c",
   "metadata": {},
   "outputs": [],
   "source": [
    "import numpy as np\n",
    "import DMemu\n",
    "import matplotlib.pyplot as plt\n",
    "from time import time"
   ]
  },
  {
   "cell_type": "code",
   "execution_count": 5,
   "id": "795d98db",
   "metadata": {},
   "outputs": [],
   "source": [
    "# load emulator\n",
    "emul = DMemu.TBDemu()"
   ]
  },
  {
   "cell_type": "code",
   "execution_count": 6,
   "id": "c056c596",
   "metadata": {},
   "outputs": [
    {
     "name": "stdout",
     "output_type": "stream",
     "text": [
      "k: k<6 (h/Mpc)\n",
      "z: z<2.35\n",
      "f: f in [0,1]\n",
      "vk: vk in [0,5000] (km/s)\n",
      "Gamma: Gamma in [0,1/13.5] (1/Gyr)\n"
     ]
    }
   ],
   "source": [
    "# print parameter range\n",
    "emul.print_parameter_space()"
   ]
  },
  {
   "cell_type": "code",
   "execution_count": 7,
   "id": "89e717fc",
   "metadata": {},
   "outputs": [
    {
     "name": "stdout",
     "output_type": "stream",
     "text": [
      "[0.76864688 0.81255819 0.86277006]\n"
     ]
    }
   ],
   "source": [
    "# predict suppressions for three different scales at three different redshifts\n",
    "k = np.array([1,2,4]) # in h/Mpc\n",
    "z = np.array([0.0,1.0,2.0])\n",
    "print(emul.predict(k,z,1.0,1000,1/50))"
   ]
  },
  {
   "cell_type": "code",
   "execution_count": 11,
   "id": "0c51746b",
   "metadata": {},
   "outputs": [
    {
     "name": "stdout",
     "output_type": "stream",
     "text": [
      "[emulator.predict] Warning: Extrapolation required! Make sure you know what is hapenning.\n",
      "ellapsed: 0.012387990951538086\n"
     ]
    },
    {
     "data": {
      "text/plain": [
       "Text(0, 0.5, '$P_{\\\\rm DDM}/P_{\\\\Lambda \\\\rm CDM}$')"
      ]
     },
     "execution_count": 11,
     "metadata": {},
     "output_type": "execute_result"
    },
    {
     "data": {
      "image/png": "[encoded data removed]",
      "text/plain": [
       "<Figure size 640x480 with 1 Axes>"
      ]
     },
     "metadata": {},
     "output_type": "display_data"
    }
   ],
   "source": [
    "# predict suppressions between kmin and kmax for a single redshift\n",
    "kmin = 1e-5\n",
    "kmax = 6 # in h/Mpc, larger than 5.9 h/Mpc what is maximum k\n",
    "ks = np.logspace(np.log10(kmin),np.log10(kmax),1000)\n",
    "zs = 0.0\n",
    "\n",
    "velocity_kick = 500\n",
    "gamma_decay = 1/50\n",
    "f = 1.0\n",
    "\n",
    "st = time()\n",
    "pks = emul.predict(ks,zs,f,velocity_kick,gamma_decay)\n",
    "print('ellapsed:',time() - st)\n",
    "\n",
    "# plot\n",
    "plt.semilogx(ks,pks)\n",
    "plt.xlabel('k [h/Mpc]')\n",
    "plt.ylabel(r'$P_{\\rm DDM}/P_{\\Lambda \\rm CDM}$')"
   ]
  },
  {
   "cell_type": "code",
   "execution_count": 9,
   "id": "742ed216",
   "metadata": {},
   "outputs": [
    {
     "name": "stdout",
     "output_type": "stream",
     "text": [
      "ellapsed: 0.012796878814697266\n",
      "got Pk: [0.96082824 0.93001912 0.87117483 0.96720961]\n"
     ]
    }
   ],
   "source": [
    "# predict suppression for a single scale and different redshifts\n",
    "k = 0.50 # h/Mpc\n",
    "zs = [2.0,1.0,0.0,2.35]\n",
    "v = 1000\n",
    "gamma = 1/50\n",
    "f = 1.0\n",
    "\n",
    "st = time()\n",
    "pks = emul.predict(k,zs,f,v,gamma)\n",
    "print('ellapsed:',time() - st)\n",
    "print('got Pk:',pks)"
   ]
  },
  {
   "cell_type": "code",
   "execution_count": null,
   "id": "a3c071ba",
   "metadata": {},
   "outputs": [],
   "source": []
  }
 ],
 "metadata": {
  "kernelspec": {
   "display_name": "Python 3 (ipykernel)",
   "language": "python",
   "name": "python3"
  },
  "language_info": {
   "codemirror_mode": {
    "name": "ipython",
    "version": 3
   },
   "file_extension": ".py",
   "mimetype": "text/x-python",
   "name": "python",
   "nbconvert_exporter": "python",
   "pygments_lexer": "ipython3",
   "version": "3.10.9"
  }
 },
 "nbformat": 4,
 "nbformat_minor": 5
}
