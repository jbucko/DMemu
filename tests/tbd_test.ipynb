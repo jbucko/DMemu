{
 "cells": [
  {
   "cell_type": "code",
   "execution_count": 1,
   "id": "0e0bfb0c",
   "metadata": {},
   "outputs": [],
   "source": [
    "import numpy as np\n",
    "import TBDemu\n",
    "import matplotlib.pyplot as plt\n",
    "from time import time"
   ]
  },
  {
   "cell_type": "code",
   "execution_count": 4,
   "id": "795d98db",
   "metadata": {},
   "outputs": [],
   "source": [
    "# load emulator\n",
    "emul = TBDemu.emulator()"
   ]
  },
  {
   "cell_type": "code",
   "execution_count": 5,
   "id": "53cb93ea",
   "metadata": {},
   "outputs": [
    {
     "ename": "AttributeError",
     "evalue": "'emulator' object has no attribute 'print_parameter_space'",
     "output_type": "error",
     "traceback": [
      "\u001b[0;31m---------------------------------------------------------------------------\u001b[0m",
      "\u001b[0;31mAttributeError\u001b[0m                            Traceback (most recent call last)",
      "Cell \u001b[0;32mIn[5], line 2\u001b[0m\n\u001b[1;32m      1\u001b[0m \u001b[38;5;66;03m# print parameter range\u001b[39;00m\n\u001b[0;32m----> 2\u001b[0m \u001b[43memul\u001b[49m\u001b[38;5;241;43m.\u001b[39;49m\u001b[43mprint_parameter_space\u001b[49m()\n",
      "\u001b[0;31mAttributeError\u001b[0m: 'emulator' object has no attribute 'print_parameter_space'"
     ]
    }
   ],
   "source": [
    "# print parameter range\n",
    "emul.print_parameter_space()"
   ]
  },
  {
   "cell_type": "code",
   "execution_count": 3,
   "id": "89e717fc",
   "metadata": {},
   "outputs": [
    {
     "name": "stdout",
     "output_type": "stream",
     "text": [
      "[0.76864688 0.81255819 0.86277006]\n"
     ]
    }
   ],
   "source": [
    "# predict suppressions for three different scales at three different redshifts\n",
    "k = np.array([1,2,4]) # in h/Mpc\n",
    "z = np.array([0.0,1.0,2.0])\n",
    "print(emul.predict(k,z,1.0,1000,1/50))"
   ]
  },
  {
   "cell_type": "code",
   "execution_count": 4,
   "id": "0c51746b",
   "metadata": {},
   "outputs": [
    {
     "name": "stdout",
     "output_type": "stream",
     "text": [
      "[emulator.predict] Warning: Extrapolation required! Make sure you know what is hapenning.\n",
      "ellapsed: 0.012153863906860352\n"
     ]
    },
    {
     "data": {
      "text/plain": [
       "Text(0, 0.5, '$P_{\\\\rm DDM}/P_{\\\\Lambda \\\\rm CDM}$')"
      ]
     },
     "execution_count": 4,
     "metadata": {},
     "output_type": "execute_result"
    },
    {
     "data": {
      "image/png": "[encoded data removed]",
      "text/plain": [
       "<Figure size 640x480 with 1 Axes>"
      ]
     },
     "metadata": {},
     "output_type": "display_data"
    }
   ],
   "source": [
    "# predict suppressions between kmin and kmax for a single redshift\n",
    "kmin = 1e-5\n",
    "kmax = 98\n",
    "ks = np.logspace(np.log10(kmin),np.log10(kmax),1000)\n",
    "zs = 0.0\n",
    "\n",
    "velocity_kick = 500\n",
    "gamma_decay = 1/50\n",
    "f = 1.0\n",
    "\n",
    "st = time()\n",
    "pks = emul.predict(ks,zs,f,velocity_kick,gamma_decay)\n",
    "print('ellapsed:',time() - st)\n",
    "\n",
    "# plot\n",
    "plt.semilogx(ks,pks)\n",
    "plt.xlabel('k [h/Mpc]')\n",
    "plt.ylabel(r'$P_{\\rm DDM}/P_{\\Lambda \\rm CDM}$')"
   ]
  },
  {
   "cell_type": "code",
   "execution_count": 3,
   "id": "742ed216",
   "metadata": {},
   "outputs": [
    {
     "name": "stdout",
     "output_type": "stream",
     "text": [
      "ellapsed: 0.012080907821655273\n",
      "got Pk: [0.96082824 0.93001912 0.87117483 0.96720961]\n"
     ]
    }
   ],
   "source": [
    "# predict suppression for a single scale and different redshifts\n",
    "k = 0.50 # h/Mpc\n",
    "zs = [2.0,1.0,0.0,2.35]\n",
    "v = 1000\n",
    "gamma = 1/50\n",
    "f = 1.0\n",
    "\n",
    "st = time()\n",
    "pks = emul.predict(k,zs,f,v,gamma)\n",
    "print('ellapsed:',time() - st)\n",
    "print('got Pk:',pks)"
   ]
  },
  {
   "cell_type": "code",
   "execution_count": 4,
   "id": "965daaf2",
   "metadata": {
    "scrolled": true
   },
   "outputs": [
    {
     "ename": "Exception",
     "evalue": "Too high redshift encountered (>2.35). Aborting...",
     "output_type": "error",
     "traceback": [
      "\u001b[0;31m---------------------------------------------------------------------------\u001b[0m",
      "\u001b[0;31mException\u001b[0m                                 Traceback (most recent call last)",
      "Cell \u001b[0;32mIn[4], line 3\u001b[0m\n\u001b[1;32m      1\u001b[0m \u001b[38;5;66;03m# redshifts above 2.35 outside of emulator's domain:\u001b[39;00m\n\u001b[0;32m----> 3\u001b[0m pk \u001b[38;5;241m=\u001b[39m \u001b[43memul\u001b[49m\u001b[38;5;241;43m.\u001b[39;49m\u001b[43mpredict\u001b[49m\u001b[43m(\u001b[49m\u001b[38;5;241;43m0.10\u001b[39;49m\u001b[43m,\u001b[49m\u001b[38;5;241;43m3.0\u001b[39;49m\u001b[43m,\u001b[49m\u001b[43mf\u001b[49m\u001b[43m,\u001b[49m\u001b[43mv\u001b[49m\u001b[43m,\u001b[49m\u001b[43mgamma\u001b[49m\u001b[43m)\u001b[49m\n",
      "File \u001b[0;32m~/python_venv_jozef/lib/python3.10/site-packages/TBDemu-1.0-py3.10.egg/TBDemu/TwoBodyDecaysEmulator.py:50\u001b[0m, in \u001b[0;36memulator.predict\u001b[0;34m(self, k, z, f, vk, Gamma, p)\u001b[0m\n\u001b[1;32m     48\u001b[0m nsteps_emul \u001b[38;5;241m=\u001b[39m \u001b[38;5;241m300\u001b[39m\n\u001b[1;32m     49\u001b[0m \u001b[38;5;66;03m# k_int = np.logspace(np.log10(kmin),np.log10(kmax),nsteps_emul)\u001b[39;00m\n\u001b[0;32m---> 50\u001b[0m \u001b[38;5;28;01mif\u001b[39;00m \u001b[38;5;28mmax\u001b[39m(z)\u001b[38;5;241m>\u001b[39m\u001b[38;5;241m2.35\u001b[39m: \u001b[38;5;28;01mraise\u001b[39;00m \u001b[38;5;167;01mException\u001b[39;00m(\u001b[38;5;124m\"\u001b[39m\u001b[38;5;124mToo high redshift encountered (>2.35). Aborting...\u001b[39m\u001b[38;5;124m\"\u001b[39m)\n\u001b[1;32m     51\u001b[0m \u001b[38;5;28;01mif\u001b[39;00m vk\u001b[38;5;241m<\u001b[39m\u001b[38;5;241m0\u001b[39m \u001b[38;5;129;01mor\u001b[39;00m vk\u001b[38;5;241m>\u001b[39m\u001b[38;5;241m5000\u001b[39m: \u001b[38;5;28;01mraise\u001b[39;00m \u001b[38;5;167;01mException\u001b[39;00m(\u001b[38;5;124m\"\u001b[39m\u001b[38;5;124mVelocity kick outside the training domain [0-5000] km/s. Aborting...\u001b[39m\u001b[38;5;124m\"\u001b[39m)\n\u001b[1;32m     52\u001b[0m \u001b[38;5;28;01mif\u001b[39;00m Gamma\u001b[38;5;241m<\u001b[39m\u001b[38;5;241m0\u001b[39m \u001b[38;5;129;01mor\u001b[39;00m Gamma\u001b[38;5;241m>\u001b[39m\u001b[38;5;241m1\u001b[39m\u001b[38;5;241m/\u001b[39m\u001b[38;5;241m13.5\u001b[39m: \u001b[38;5;28;01mraise\u001b[39;00m \u001b[38;5;167;01mException\u001b[39;00m(\u001b[38;5;124m\"\u001b[39m\u001b[38;5;124mDecay rate outside the training domain [0-1/13.5] 1/Gyr. Aborting...\u001b[39m\u001b[38;5;124m\"\u001b[39m)\n",
      "\u001b[0;31mException\u001b[0m: Too high redshift encountered (>2.35). Aborting..."
     ]
    }
   ],
   "source": [
    "# redshifts above 2.35 outside of emulator's domain:\n",
    "\n"
   ]
  },
  {
   "cell_type": "code",
   "execution_count": null,
   "id": "a3c071ba",
   "metadata": {},
   "outputs": [],
   "source": []
  }
 ],
 "metadata": {
  "kernelspec": {
   "display_name": "Python 3 (ipykernel)",
   "language": "python",
   "name": "python3"
  },
  "language_info": {
   "codemirror_mode": {
    "name": "ipython",
    "version": 3
   },
   "file_extension": ".py",
   "mimetype": "text/x-python",
   "name": "python",
   "nbconvert_exporter": "python",
   "pygments_lexer": "ipython3",
   "version": "3.10.9"
  }
 },
 "nbformat": 4,
 "nbformat_minor": 5
}
