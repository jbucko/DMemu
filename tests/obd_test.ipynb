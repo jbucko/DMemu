{
 "cells": [
  {
   "cell_type": "code",
   "execution_count": 12,
   "id": "0e0bfb0c",
   "metadata": {},
   "outputs": [],
   "source": [
    "import numpy as np\n",
    "import DMemu\n",
    "import matplotlib.pyplot as plt\n",
    "from time import time"
   ]
  },
  {
   "cell_type": "code",
   "execution_count": 13,
   "id": "795d98db",
   "metadata": {},
   "outputs": [
    {
     "name": "stdout",
     "output_type": "stream",
     "text": [
      "One-body decays emulator loaded!\n"
     ]
    }
   ],
   "source": [
    "# load emulator\n",
    "emul = DMemu.OBDemu()"
   ]
  },
  {
   "cell_type": "code",
   "execution_count": 14,
   "id": "89e717fc",
   "metadata": {},
   "outputs": [
    {
     "name": "stdout",
     "output_type": "stream",
     "text": [
      "[0.85730475 0.93428115 0.96346161]\n"
     ]
    }
   ],
   "source": [
    "# predict suppressions for three different scales at three different redshifts\n",
    "k = np.array([1,2,4]) # in h/Mpc\n",
    "z = np.array([0.0,1.0,2.0])\n",
    "\n",
    "# this the order and types of input parameters\n",
    "# k: Union[float,list], \n",
    "# z: Union[float,list], \n",
    "# Gamma: float = 1e-10, \n",
    "# f: float = 0., \n",
    "# Ob: float =0.049, \n",
    "# Om: float = 0.315, \n",
    "# h:float = 0.67\n",
    "\n",
    "Gamma = 1/50\n",
    "f = 1.0\n",
    "\n",
    "print(emul.predict(k,z,Gamma,f))"
   ]
  },
  {
   "cell_type": "code",
   "execution_count": 15,
   "id": "0c51746b",
   "metadata": {},
   "outputs": [
    {
     "name": "stdout",
     "output_type": "stream",
     "text": [
      "ellapsed: 0.0009920597076416016\n"
     ]
    },
    {
     "data": {
      "text/plain": [
       "Text(0, 0.5, '$P_{\\\\rm DDM}/P_{\\\\Lambda \\\\rm CDM}$')"
      ]
     },
     "execution_count": 15,
     "metadata": {},
     "output_type": "execute_result"
    },
    {
     "data": {
      "image/png": "[encoded data removed]",
      "text/plain": [
       "<Figure size 640x480 with 1 Axes>"
      ]
     },
     "metadata": {},
     "output_type": "display_data"
    }
   ],
   "source": [
    "# predict suppressions between kmin and kmax for a single redshift\n",
    "kmin = 1e-5\n",
    "kmax = 10\n",
    "ks = np.logspace(np.log10(kmin),np.log10(kmax),1000)\n",
    "zs = 0.0\n",
    "\n",
    "gamma_decay = 1/50\n",
    "f = 1.0\n",
    "\n",
    "st = time()\n",
    "pks = emul.predict(ks,zs,gamma_decay,f)\n",
    "print('ellapsed:',time() - st)\n",
    "\n",
    "# plot\n",
    "plt.semilogx(ks,pks)\n",
    "plt.xlabel('k [h/Mpc]')\n",
    "plt.ylabel(r'$P_{\\rm DDM}/P_{\\Lambda \\rm CDM}$')"
   ]
  },
  {
   "cell_type": "code",
   "execution_count": 16,
   "id": "742ed216",
   "metadata": {},
   "outputs": [
    {
     "name": "stdout",
     "output_type": "stream",
     "text": [
      "ellapsed: 0.00011181831359863281\n",
      "got Pk: [0.98514686 0.96356076 0.89603679 0.9888888 ]\n"
     ]
    }
   ],
   "source": [
    "# predict suppression for a single scale and different redshifts\n",
    "k = 0.50 # h/Mpc\n",
    "zs = [2.0,1.0,0.0,2.35]\n",
    "gamma = 1/50\n",
    "f = 1.0\n",
    "\n",
    "st = time()\n",
    "pks = emul.predict(k,zs,gamma,f)\n",
    "print('ellapsed:',time() - st)\n",
    "print('got Pk:',pks)"
   ]
  },
  {
   "cell_type": "code",
   "execution_count": 11,
   "id": "965daaf2",
   "metadata": {
    "scrolled": true
   },
   "outputs": [],
   "source": [
    "# extrapolation:\n",
    "\n"
   ]
  },
  {
   "cell_type": "code",
   "execution_count": null,
   "id": "a3c071ba",
   "metadata": {},
   "outputs": [],
   "source": []
  }
 ],
 "metadata": {
  "kernelspec": {
   "display_name": "Python 3 (ipykernel)",
   "language": "python",
   "name": "python3"
  },
  "language_info": {
   "codemirror_mode": {
    "name": "ipython",
    "version": 3
   },
   "file_extension": ".py",
   "mimetype": "text/x-python",
   "name": "python",
   "nbconvert_exporter": "python",
   "pygments_lexer": "ipython3",
   "version": "3.10.9"
  }
 },
 "nbformat": 4,
 "nbformat_minor": 5
}
